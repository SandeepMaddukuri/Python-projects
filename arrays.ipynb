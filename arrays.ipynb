{
 "cells": [
  {
   "cell_type": "markdown",
   "metadata": {},
   "source": [
    "## Python Lists"
   ]
  },
  {
   "cell_type": "code",
   "execution_count": 1,
   "metadata": {},
   "outputs": [],
   "source": [
    "bikes = [\"kawasaki\", \"honda\", \"aprillia\", \"bajaj\"]"
   ]
  },
  {
   "cell_type": "code",
   "execution_count": 2,
   "metadata": {},
   "outputs": [
    {
     "name": "stdout",
     "output_type": "stream",
     "text": [
      "kawasaki\n",
      "honda\n",
      "aprillia\n",
      "bajaj\n"
     ]
    }
   ],
   "source": [
    "for i in bikes:\n",
    "    print(i)"
   ]
  },
  {
   "cell_type": "markdown",
   "metadata": {},
   "source": [
    "### Appending values to a list"
   ]
  },
  {
   "cell_type": "code",
   "execution_count": 3,
   "metadata": {},
   "outputs": [
    {
     "name": "stdout",
     "output_type": "stream",
     "text": [
      "['kawasaki', 'honda', 'aprillia', 'bajaj', 'hero']\n"
     ]
    }
   ],
   "source": [
    "bikes.append(\"hero\")\n",
    "print(bikes)"
   ]
  },
  {
   "cell_type": "markdown",
   "metadata": {},
   "source": [
    "### Using extend method to add values"
   ]
  },
  {
   "cell_type": "code",
   "execution_count": 4,
   "metadata": {},
   "outputs": [
    {
     "name": "stdout",
     "output_type": "stream",
     "text": [
      "['kawasaki', 'honda', 'aprillia', 'bajaj', 'hero', 'TVS', 'Ather']\n"
     ]
    }
   ],
   "source": [
    "bikes.extend([\"TVS\",\"Ather\"])\n",
    "print(bikes)"
   ]
  },
  {
   "cell_type": "code",
   "execution_count": 5,
   "metadata": {},
   "outputs": [
    {
     "data": {
      "text/plain": [
       "['honda', 'aprillia', 'bajaj', 'hero', 'TVS']"
      ]
     },
     "execution_count": 5,
     "metadata": {},
     "output_type": "execute_result"
    }
   ],
   "source": [
    "#list slicing\n",
    "bikes[1:-1]"
   ]
  },
  {
   "cell_type": "markdown",
   "metadata": {},
   "source": [
    "## Numpy Arrays"
   ]
  },
  {
   "cell_type": "code",
   "execution_count": 6,
   "metadata": {},
   "outputs": [],
   "source": [
    "import numpy as np"
   ]
  },
  {
   "cell_type": "markdown",
   "metadata": {},
   "source": [
    "### Converting list into array using Numpy"
   ]
  },
  {
   "cell_type": "code",
   "execution_count": 7,
   "metadata": {},
   "outputs": [
    {
     "data": {
      "text/plain": [
       "numpy.ndarray"
      ]
     },
     "execution_count": 7,
     "metadata": {},
     "output_type": "execute_result"
    }
   ],
   "source": [
    "np_bikes = np.array(bikes)\n",
    "np_bikes.sort()\n",
    "type(np_bikes)"
   ]
  },
  {
   "cell_type": "code",
   "execution_count": 8,
   "metadata": {},
   "outputs": [],
   "source": [
    "np_cars = np.array([\"ford\", \"toyota\", \"Tata\", \"Hyundai\", \"Porsche\", \"Kia\", \"Ferrari\"])\n",
    "np_cars.sort()"
   ]
  },
  {
   "cell_type": "markdown",
   "metadata": {},
   "source": [
    "### Appending two arrays"
   ]
  },
  {
   "cell_type": "code",
   "execution_count": 9,
   "metadata": {},
   "outputs": [
    {
     "name": "stdout",
     "output_type": "stream",
     "text": [
      "['Ather' 'TVS' 'aprillia' 'bajaj' 'hero' 'honda' 'kawasaki' 'Ferrari'\n",
      " 'Hyundai' 'Kia' 'Porsche' 'Tata' 'ford' 'toyota']\n",
      "Shape of appended array : (14,)\n"
     ]
    }
   ],
   "source": [
    "np_vehicles = np.append(np_bikes, np_cars, axis=0)\n",
    "print(np_vehicles)\n",
    "print(\"Shape of appended array :\", np_vehicles.shape)"
   ]
  },
  {
   "cell_type": "code",
   "execution_count": 10,
   "metadata": {},
   "outputs": [
    {
     "name": "stdout",
     "output_type": "stream",
     "text": [
      "[[10  0  3 19]\n",
      " [13  5  7 15]\n",
      " [19 19  8  2]\n",
      " [ 5 17  6 12]]\n"
     ]
    }
   ],
   "source": [
    "np_rand = np.random.randint(0, 20, (4,4))\n",
    "print(np_rand)"
   ]
  },
  {
   "cell_type": "markdown",
   "metadata": {},
   "source": [
    "### Array indexing"
   ]
  },
  {
   "cell_type": "code",
   "execution_count": 28,
   "metadata": {},
   "outputs": [
    {
     "name": "stdout",
     "output_type": "stream",
     "text": [
      "Element at index a[0,1]: 7\n"
     ]
    }
   ],
   "source": [
    "a = np.array([[12, 7, 9, 1], [8, 3, 0, 2]])\n",
    "print(\"Element at index a[0,1]:\", a[0,1])"
   ]
  },
  {
   "cell_type": "markdown",
   "metadata": {},
   "source": [
    "### Array slicing"
   ]
  },
  {
   "cell_type": "code",
   "execution_count": 30,
   "metadata": {},
   "outputs": [
    {
     "name": "stdout",
     "output_type": "stream",
     "text": [
      "[2 3 4 5]\n"
     ]
    }
   ],
   "source": [
    "b = np.array([1, 2, 3, 4, 5, 6, 7])\n",
    "print(b[1:5])"
   ]
  },
  {
   "cell_type": "code",
   "execution_count": 34,
   "metadata": {},
   "outputs": [
    {
     "name": "stdout",
     "output_type": "stream",
     "text": [
      "[2 1 7]\n",
      "[4 7]\n"
     ]
    }
   ],
   "source": [
    "c = np.array([[1, 2, 3, 4],[3, 2, 1, 7]])\n",
    "print(c[1, 1:4])\n",
    "print(c[0:2, 3])"
   ]
  },
  {
   "cell_type": "code",
   "execution_count": 22,
   "metadata": {},
   "outputs": [
    {
     "name": "stdout",
     "output_type": "stream",
     "text": [
      "[[1 3]\n",
      " [3 1]\n",
      " [1 2]\n",
      " [1 2]]\n",
      "(4, 2)\n"
     ]
    }
   ],
   "source": [
    "#filling a 4x2 array with random integers in the range 1 to 5\n",
    "np_num = np.random.randint(1, 5, (4, 2))\n",
    "print(np_num)\n",
    "print(np_num.shape)"
   ]
  },
  {
   "cell_type": "code",
   "execution_count": 23,
   "metadata": {},
   "outputs": [
    {
     "name": "stdout",
     "output_type": "stream",
     "text": [
      "[[10  0  3 19  1  3]\n",
      " [13  5  7 15  3  1]\n",
      " [19 19  8  2  1  2]\n",
      " [ 5 17  6 12  1  2]]\n"
     ]
    }
   ],
   "source": [
    "np_com = np.append(np_rand, np_num, axis=1)\n",
    "print(np_com) "
   ]
  },
  {
   "cell_type": "code",
   "execution_count": 24,
   "metadata": {},
   "outputs": [
    {
     "name": "stdout",
     "output_type": "stream",
     "text": [
      "[[ 2  3  6  2]\n",
      " [ 8  5  4  1]\n",
      " [10  2 32  2]\n",
      " [ 3 43  9  2]]\n",
      "int32\n"
     ]
    }
   ],
   "source": [
    "#array with defined data type\n",
    "arr = np.array([[2, 3, 6, 2], [8, 5, 4, 1], [10, 2, 32, 2], [3, 43, 9, 2]], dtype='int32')\n",
    "print(arr)\n",
    "print(arr.dtype)"
   ]
  },
  {
   "cell_type": "code",
   "execution_count": 25,
   "metadata": {},
   "outputs": [
    {
     "name": "stdout",
     "output_type": "stream",
     "text": [
      "[[ 2  3  6  2]\n",
      " [ 8  5  4  1]\n",
      " [10  2 32  2]\n",
      " [ 3 43  9  2]\n",
      " [12  4  9 15]\n",
      " [68  3  0  2]]\n"
     ]
    }
   ],
   "source": [
    "arr = np.append(arr, [[12, 4, 9, 15], [68, 3, 0, 2]], axis=0)\n",
    "print(arr)"
   ]
  },
  {
   "cell_type": "code",
   "execution_count": 26,
   "metadata": {},
   "outputs": [
    {
     "name": "stdout",
     "output_type": "stream",
     "text": [
      "[[ 2  3  6  2 21  7]\n",
      " [ 8  5  4  1 -2  4]\n",
      " [10  2 32  2 21  8]\n",
      " [ 3 43  9  2  3  6]\n",
      " [12  4  9 15  2  5]\n",
      " [68  3  0  2 11 23]]\n",
      "(6, 6)\n"
     ]
    }
   ],
   "source": [
    "arr_new = np.append(arr, [[21, 7], [-2, 4], [21, 8], [3, 6], [2, 5], [11, 23]], axis=1)\n",
    "print(arr_new)\n",
    "print(arr_new.shape)"
   ]
  },
  {
   "cell_type": "code",
   "execution_count": 27,
   "metadata": {},
   "outputs": [
    {
     "name": "stdout",
     "output_type": "stream",
     "text": [
      "Normalized array = \n",
      " [[0.05714286 0.07142857 0.11428571 0.05714286 0.32857143 0.12857143]\n",
      " [0.14285714 0.1        0.08571429 0.04285714 0.         0.08571429]\n",
      " [0.17142857 0.05714286 0.48571429 0.05714286 0.32857143 0.14285714]\n",
      " [0.07142857 0.64285714 0.15714286 0.05714286 0.07142857 0.11428571]\n",
      " [0.2        0.08571429 0.15714286 0.24285714 0.05714286 0.1       ]\n",
      " [1.         0.07142857 0.02857143 0.05714286 0.18571429 0.35714286]]\n"
     ]
    }
   ],
   "source": [
    "#normalising an array\n",
    "arr_new_max = arr_new.max()\n",
    "arr_new_min = arr_new.min()\n",
    "arr_new_norm = (arr_new - arr_new_min)/(arr_new_max - arr_new_min)\n",
    "print(\"Normalized array = \\n\", arr_new_norm)"
   ]
  },
  {
   "cell_type": "markdown",
   "metadata": {},
   "source": [
    "### Nested Arrays"
   ]
  },
  {
   "cell_type": "code",
   "execution_count": 17,
   "metadata": {},
   "outputs": [
    {
     "name": "stdout",
     "output_type": "stream",
     "text": [
      "[[[ 4  2  5]\n",
      "  [ 3  7  2]]\n",
      "\n",
      " [[ 4  9 11]\n",
      "  [ 8  4 21]]]\n",
      "Shape of the nested array : (2, 2, 3)\n"
     ]
    }
   ],
   "source": [
    "arr_nested = np.array([[[4, 2, 5], [3 ,7, 2]], [[4, 9, 11], [8, 4, 21]]])\n",
    "print(arr_nested)\n",
    "print(\"Shape of the nested array :\", arr_nested.shape)"
   ]
  },
  {
   "cell_type": "markdown",
   "metadata": {},
   "source": [
    "### Creating arrays from scratch"
   ]
  },
  {
   "cell_type": "code",
   "execution_count": 18,
   "metadata": {},
   "outputs": [
    {
     "data": {
      "text/plain": [
       "array([[0, 0, 0, 0],\n",
       "       [0, 0, 0, 0],\n",
       "       [0, 0, 0, 0]])"
      ]
     },
     "execution_count": 18,
     "metadata": {},
     "output_type": "execute_result"
    }
   ],
   "source": [
    "#integer array filled with zeros\n",
    "np.zeros((3,4), dtype=int)"
   ]
  },
  {
   "cell_type": "code",
   "execution_count": 19,
   "metadata": {},
   "outputs": [
    {
     "data": {
      "text/plain": [
       "array([[1., 1., 1.],\n",
       "       [1., 1., 1.],\n",
       "       [1., 1., 1.]])"
      ]
     },
     "execution_count": 19,
     "metadata": {},
     "output_type": "execute_result"
    }
   ],
   "source": [
    "#floating-point array filled with ones\n",
    "np.ones((3,3), dtype=float)"
   ]
  },
  {
   "cell_type": "code",
   "execution_count": 20,
   "metadata": {},
   "outputs": [
    {
     "data": {
      "text/plain": [
       "array([[3.14, 3.14, 3.14, 3.14, 3.14],\n",
       "       [3.14, 3.14, 3.14, 3.14, 3.14],\n",
       "       [3.14, 3.14, 3.14, 3.14, 3.14],\n",
       "       [3.14, 3.14, 3.14, 3.14, 3.14]])"
      ]
     },
     "execution_count": 20,
     "metadata": {},
     "output_type": "execute_result"
    }
   ],
   "source": [
    "#array filled with specific values\n",
    "np.full((4,5), 3.14)"
   ]
  },
  {
   "cell_type": "code",
   "execution_count": 21,
   "metadata": {},
   "outputs": [
    {
     "data": {
      "text/plain": [
       "array([ 0,  3,  6,  9, 12])"
      ]
     },
     "execution_count": 21,
     "metadata": {},
     "output_type": "execute_result"
    }
   ],
   "source": [
    "np.arange(0, 15, 3)"
   ]
  },
  {
   "cell_type": "code",
   "execution_count": null,
   "metadata": {},
   "outputs": [],
   "source": []
  }
 ],
 "metadata": {
  "kernelspec": {
   "display_name": "Python 3",
   "language": "python",
   "name": "python3"
  },
  "language_info": {
   "codemirror_mode": {
    "name": "ipython",
    "version": 3
   },
   "file_extension": ".py",
   "mimetype": "text/x-python",
   "name": "python",
   "nbconvert_exporter": "python",
   "pygments_lexer": "ipython3",
   "version": "3.8.3"
  }
 },
 "nbformat": 4,
 "nbformat_minor": 4
}
